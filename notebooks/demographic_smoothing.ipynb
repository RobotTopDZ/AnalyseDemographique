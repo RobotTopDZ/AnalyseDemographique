{
 "cells": [
  {
   "cell_type": "markdown",
   "metadata": {},
   "source": [
    "# Carrier and Farag Demographic Smoothing Technique\n",
    "\n",
    "This notebook implements the Carrier and Farag Demographic Smoothing Technique for analyzing and smoothing demographic data from Afghanistan. The technique helps to adjust for age heaping and other data irregularities in population statistics.\n",
    "\n",
    "## Overview of the Methodology\n",
    "\n",
    "The Carrier-Farag method involves the following steps:\n",
    "\n",
    "1. Group population data into five-year age groups\n",
    "2. Calculate the cumulative population C(x) up to age 60\n",
    "3. Compute the K coefficient using K = C(60)/60\n",
    "4. Generate a new dataset with C(x) - Kx\n",
    "5. Apply smoothing to create a bell-shaped curve\n",
    "6. Calculate the smoothed population for each age group"
   ]
  },
  {
   "cell_type": "markdown",
   "metadata": {},
   "source": [
    "## Import Required Libraries"
   ]
  },
  {
   "cell_type": "code",
   "execution_count": null,
   "metadata": {},
   "outputs": [],
   "source": [
    "import pandas as pd\n",
    "import numpy as np\n",
    "import matplotlib.pyplot as plt\n",
    "import seaborn as sns\n",
    "import plotly.express as px\n",
    "import plotly.graph_objects as go\n",
    "from plotly.subplots import make_subplots\n",
    "from scipy.optimize import curve_fit\n",
    "import os\n",
    "from matplotlib.backends.backend_pdf import PdfPages\n",
    "\n",
    "# Set visualization styles\n",
    "sns.set_style('whitegrid')\n",
    "plt.rcParams['figure.figsize'] = (12, 8)\n",
    "plt.rcParams['font.size'] = 12\n",
    "plt.rcParams['axes.titlesize'] = 16\n",
    "plt.rcParams['axes.labelsize'] = 14"
   ]
  },
  {
   "cell_type": "markdown",
   "metadata": {},
   "source": [
    "## Load and Explore the Data"
   ]
  },
  {
   "cell_type": "code",
   "execution_count": null,
   "metadata": {},
   "outputs": [],
   "source": [
    "# Load the population data\n",
    "population_data = pd.read_csv('../data/population.csv')\n",
    "\n",
    "# Display the first few rows to understand the structure\n",
    "population_data.head()"
   ]
  },
  {
   "cell_type": "code",
   "execution_count": null,
   "metadata": {},
   "outputs": [],
   "source": [
    "# Check the shape of the dataset\n",
    "print(f'Dataset shape: {population_data.shape}')\n",
    "\n",
    "# Check column names\n",
    "print('\nColumns in the dataset:')\n",
    "print(population_data.columns.tolist())"
   ]
  },
  {
   "cell_type": "markdown",
   "metadata": {},
   "source": [
    "## Data Cleaning and Preparation\n",
    "\n",
    "Let's clean the dataset by dropping unnecessary columns and focusing on the relevant information for our analysis."
   ]
  },
  {
   "cell_type": "code",
   "execution_count": null,
   "metadata": {},
   "outputs": [],
   "source": [
    "# Clean the dataset by dropping unnecessary columns\n",
    "columns_to_keep = ['Location', 'Time', 'Sex', 'AgeStart', 'AgeEnd', 'Age', 'Value']\n",
    "df_clean = population_data[columns_to_keep].copy()\n",
    "\n",
    "# Filter for Afghanistan data\n",
    "df_afghanistan = df_clean[df_clean['Location'] == 'Afghanistan'].copy()\n",
    "\n",
    "# Display the cleaned dataset\n",
    "df_afghanistan.head()"
   ]
  },
  {
   "cell_type": "code",
   "execution_count": null,
   "metadata": {},
   "outputs": [],
   "source": [
    "# Get the list of available years\n",
    "available_years = sorted(df_afghanistan['Time'].unique())\n",
    "print(f'Available years: {available_years}')\n",
    "\n",
    "# Get the list of available sex categories\n",
    "sex_categories = sorted(df_afghanistan['Sex'].unique())\n",
    "print(f'Sex categories: {sex_categories}')"
   ]
  },
  {
   "cell_type": "markdown",
   "metadata": {},
   "source": [
    "## Data Transformation: Grouping into Five-Year Age Groups"
   ]
  },
  {
   "cell_type": "code",
   "execution_count": null,
   "metadata": {},
   "outputs": [],
   "source": [
    "# Function to group data into five-year age groups\n",
    "def group_into_five_year_ages(df, year, sex_category='Both sexes'):\n",
    "    # Filter data for the specified year and sex category\n",
    "    year_data = df[(df['Time'] == str(year)) & (df['Sex'] == sex_category)].copy()\n",
    "    \n",
    "    # Sort by age start to ensure proper ordering\n",
    "    year_data = year_data.sort_values('AgeStart')\n",
    "    \n",
    "    # Create a dictionary to store the five-year age groups\n",
    "    five_year_groups = {}\n",
    "    \n",
    "    # Group ages into five-year intervals\n",
    "    for i in range(0, 100, 5):\n",
    "        age_group = f\"{i}-{i+4}\"\n",
    "        # Filter for the current age group\n",
    "        group_data = year_data[(year_data['AgeStart'] >= i) & (year_data['AgeStart'] < i+5)]\n",
    "        \n",
    "        # Sum the population values for this age group\n",
    "        if not group_data.empty:\n",
    "            five_year_groups[age_group] = group_data['Value'].sum()\n",
    "        else:\n",
    "            five_year_groups[age_group] = 0\n",
    "    \n",
    "    # Convert to DataFrame\n",
    "    result_df = pd.DataFrame({\n",
    "        'Age_Group': list(five_year_groups.keys()),\n",
    "        'Population': list(five_year_groups.values()),\n",
    "        'AgeStart': [int(ag.split('-')[0]) for ag in five_year_groups.keys()]\n",
    "    })\n",
    "    \n",
    "    # Sort by age start\n",
    "    result_df = result_df.sort_values('AgeStart').reset_index(drop=True)\n",
    "    \n",
    "    # Add year and sex information\n",
    "    result_df['Year'] = year\n",
    "    result_df['Sex'] = sex_category\n",
    "    \n",
    "    return result_df"
   ]
  },
  {
   "cell_type": "code",
   "execution_count": null,
   "metadata": {},
   "outputs": [],
   "source": [
    "# Let's test the function with a specific year and sex category\n",
    "year_to_analyze = 2020  # You can change this to any available year\n",
    "sex_to_analyze = 'Both sexes'  # You can change this to 'Male' or 'Female'\n",
    "\n",
    "df_five_year = group_into_five_year_ages(df_afghanistan, year_to_analyze, sex_to_analyze)\n",
    "df_five_year.head(10)"
   ]
  },
  {
   "cell_type": "markdown",
   "metadata": {},
   "source": [
    "## Carrier-Farag Smoothing Technique Implementation"
   ]
  },
  {
   "cell_type": "code",
   "execution_count": null,
   "metadata": {},
   "outputs": [],
   "source": [
    "# Function to apply the Carrier-Farag smoothing technique\n",
    "def apply_carrier_farag_smoothing(df_five_year):\n",
    "    # Compute the cumulative population C(x)\n",
    "    df_cumulative = df_five_year.sort_values('AgeStart').reset_index(drop=True).copy()\n",
    "    df_cumulative['Cumulative_Population'] = df_cumulative['Population'].cumsum()\n",
    "    \n",
    "    # Filter to include only ages up to 60\n",
    "    df_cumulative_60 = df_cumulative[df_cumulative['AgeStart'] <= 60].copy()\n",
    "    \n",
    "    # Compute the K coefficient using K = C(60)/60\n",
    "    c_60 = df_cumulative_60[df_cumulative_60['AgeStart'] == 60]['Cumulative_Population'].values[0]\n",
    "    k_coefficient = c_60 / 60\n",
    "    \n",
    "    # Generate a new dataset with C(x) - Kx\n",
    "    df_adjusted = df_cumulative_60.copy()\n",
    "    df_adjusted['Kx'] = df_adjusted['AgeStart'] * k_coefficient\n",
    "    df_adjusted['C(x) - Kx'] = df_adjusted['Cumulative_Population'] - df_adjusted['Kx']\n",
    "    \n",
    "    # Apply smoothing to create a bell-shaped curve\n",
    "    # Fit a polynomial to the C(x) - Kx values\n",
    "    x = df_adjusted['AgeStart']\n",
    "    y = df_adjusted['C(x) - Kx']\n",
    "    \n",
    "    # Fit the polynomial\n",
    "    coefficients = np.polyfit(x, y, 4)\n",
    "    polynomial = np.poly1d(coefficients)\n",
    "    \n",
    "    # Calculate the smoothed values\n",
    "    df_adjusted['Smoothed C(x) - Kx'] = polynomial(x)\n",
    "    df_adjusted['Smoothed C(x)'] = df_adjusted['Smoothed C(x) - Kx'] + df_adjusted['Kx']\n",
    "    \n",
    "    # Calculate the smoothed population for each age group\n",
    "    # For the first age group, the smoothed population is the same as the smoothed cumulative population\n",
    "    df_adjusted.loc[0, 'Smoothed Population'] = df_adjusted.loc[0, 'Smoothed C(x)']\n",
    "    \n",
    "    # For subsequent age groups, calculate the difference in smoothed cumulative population\n",
    "    for i in range(1, len(df_adjusted)):\n",
    "        df_adjusted.loc[i, 'Smoothed Population'] = df_adjusted.loc[i, 'Smoothed C(x)'] - df_adjusted.loc[i-1, 'Smoothed C(x)']\n",
    "    \n",
    "    return df_adjusted, polynomial, k_coefficient"
   ]
  },
  {
   "cell_type": "code",
   "execution_count": null,
   "metadata": {},
   "outputs": [],
   "source": [
    "# Apply the Carrier-Farag smoothing technique to our five-year age group data\n",
    "df_smoothed, polynomial, k_coefficient = apply_carrier_farag_smoothing(df_five_year)\n",
    "\n",
    "# Display the results\n",
    "print(f'K coefficient: {k_coefficient:.2f}')\n",
    "df_smoothed.head(10)"
   ]
  },
  {
   "cell_type": "markdown",
   "metadata": {},
   "source": [
    "## Visualizations\n",
    "\n",
    "Let's create visualizations to compare the raw and smoothed population data."
   ]
  },
  {
   "cell_type": "code",
   "execution_count": null,
   "metadata": {},
   "outputs": [],
   "source": [
    "# Function to create population bar chart\n",
    "def plot_population_comparison(df_smoothed, year, sex_category):\n",
    "    plt.figure(figsize=(14, 8))\n",
    "    \n",
    "    # Create a bar chart for raw and smoothed population\n",
    "    x = df_smoothed['Age_Group']\n",
    "    y1 = df_smoothed['Population']\n",
    "    y2 = df_smoothed['Smoothed Population']\n",
    "    \n",
    "    # Set the width of the bars\n",
    "    width = 0.35\n",
    "    \n",
    "    # Set the positions of the bars on the x-axis\n",
    "    x_pos = np.arange(len(x))\n",
    "    \n",
    "    # Create the bars\n",
    "    plt.bar(x_pos - width/2, y1, width, label='Raw Population', color='#3498db', alpha=0.7)\n",
    "    plt.bar(x_pos + width/2, y2, width, label='Smoothed Population', color='#e74c3c', alpha=0.7)\n",
    "    \n",
    "    # Add labels and title\n",
    "    plt.xlabel('Age Group')\n",
    "    plt.ylabel('Population')\n",
    "    plt.title(f'Raw vs. Smoothed Population by Age Group (Afghanistan, {year}, {sex_category})')\n",
    "    \n",
    "    # Add xticks on the middle of the group bars\n",
    "    plt.xticks(x_pos, x, rotation=45)\n",
    "    \n",
    "    # Add a legend\n",
    "    plt.legend(loc='upper right')\n",
    "    \n",
    "    # Add grid lines\n",
    "    plt.grid(axis='y', linestyle='--', alpha=0.7)\n",
    "    \n",
    "    # Adjust layout\n",
    "    plt.tight_layout()\n",
    "    \n",
    "    return plt.gcf()  # Return the current figure"
   ]
  },
  {
   "cell_type": "code",
   "execution_count": null,
   "metadata": {},
   "outputs": [],
   "source": [
    "# Function to create C(x) - Kx plot\n",
    "def plot_cx_kx(df_smoothed, polynomial, year, sex_category):\n",
    "    plt.figure(figsize=(14, 8))\n",
    "    \n",
    "    # Plot the raw C(x) - Kx values\n",
    "    plt.scatter(df_smoothed['AgeStart'], df_smoothed['C(x) - Kx'], \n",
    "                label='Raw C(x) - Kx', color='#3498db', s=80, alpha=0.7)\n",
    "    \n",
    "    # Plot the smoothed C(x) - Kx values\n",
    "    plt.scatter(df_smoothed['AgeStart'], df_smoothed['Smoothed C(x) - Kx'], \n",
    "                label='Smoothed C(x) - Kx', color='#e74c3c', s=80, alpha=0.7)\n",
    "    \n",
    "    # Plot the polynomial fit\n",
    "    x_smooth = np.linspace(0, 60, 1000)\n",
    "    y_smooth = polynomial(x_smooth)\n",
    "    plt.plot(x_smooth, y_smooth, label='Polynomial Fit', color='#2ecc71', linewidth=2, linestyle='--')\n",
    "    \n",
    "    # Add labels and title\n",
    "    plt.xlabel('Age')\n",
    "    plt.ylabel('C(x) - Kx')\n",
    "    plt.title(f'Raw vs. Smoothed C(x) - Kx (Afghanistan, {year}, {sex_category})')\n",
    "    \n",
    "    # Add a legend\n",
    "    plt.legend(loc='upper right')\n",
    "    \n",
    "    # Add grid lines\n",
    "    plt.grid(linestyle='--', alpha=0.7)\n",
    "    \n",
    "    # Adjust layout\n",
    "    plt.tight_layout()\n",
    "    \n",
    "    return plt.gcf()  # Return the current figure"
   ]
  },
  {
   "cell_type": "code",
   "execution_count": null,
   "metadata": {},
   "outputs": [],
   "source": [
    "# Create and display the population comparison chart\n",
    "fig_population = plot_population_comparison(df_smoothed, year_to_analyze, sex_to_analyze)\n",
    "plt.show()"
   ]
  },
  {
   "cell_type": "code",
   "execution_count": null,
   "metadata": {},
   "outputs": [],
   "source": [
    "# Create and display the C(x) - Kx plot\n",
    "fig_cx_kx = plot_cx_kx(df_smoothed, polynomial, year_to_analyze, sex_to_analyze)\n",
    "plt.show()"
   ]
  },
  {
   "cell_type": "markdown",
   "metadata": {},
   "source": [
    "## Interactive Visualizations with Plotly"
   ]
  },
  {
   "cell_type": "code",
   "execution_count": null,
   "metadata": {},
   "outputs": [],
   "source": [
    "# Function to create interactive population bar chart with Plotly\n",
    "def create_interactive_population_chart(df_smoothed):\n",
    "    fig = go.Figure()\n",
    "    \n",
    "    # Add raw population trace\n",
    "    fig.add_trace(go.Bar(\n",
    "        x=df_smoothed['Age_Group'],\n",
    "        y=df_smoothed['Population'],\n",
    "        name='Raw Population',\n",
    "        marker_color='rgba(55, 83, 109, 0.7)'\n",
    "    ))\n",
    "    \n",
    "    # Add smoothed population trace\n",
    "    fig.add_trace(go.Bar(\n",
    "        x=df_smoothed['Age_Group'],\n",
    "        y=df_smoothed['Smoothed Population'],\n",
    "        name='Smoothed Population',\n",
    "        marker_color='rgba(26, 118, 255, 0.7)'\n",
    "    ))\n",
    "    \n",
    "    # Update layout\n",
    "    fig.update_layout(\n",
    "        title=f'Raw vs. Smoothed Population by Age Group (Afghanistan, {df_smoothed[\"Year\"].iloc[0]}, {df_smoothed[\"Sex\"].iloc[0]})',\n",
    "        xaxis_title='Age Group',\n",
    "        yaxis_title='Population',\n",
    "        barmode='group',\n",
    "        legend=dict(\n",
    "            x=0.01,\n",
    "            y=0.99,\n",
    "            bgcolor='rgba(255, 255, 255, 0.5)',\n",
    "            bordercolor='rgba(0, 0, 0, 0.1)'\n",
    "        ),\n",
    "        hovermode='closest'\n",
    "    )\n",
    "    \n",
    "    return fig"
   ]
  },
  {
   "cell_type": "code",
   "execution_count": null,
   "metadata": {},
   "outputs": [],
   "source": [
    "# Function to create interactive C(x) - Kx plot with Plotly\n",
    "def create_interactive_cx_kx_plot(df_smoothed, polynomial):\n",
    "    fig = go.Figure()\n",
    "    \n",
    "    # Add raw C(x) - Kx trace\n",
    "    fig.add_trace(go.Scatter(\n",
    "        x=df_smoothed['AgeStart'],\n",
    "        y=df_smoothed['C(x) - Kx'],\n",
    "        mode='lines+markers',\n",
    "        name='Raw C(x) - Kx',\n",
    "        line=dict(color='rgba(55, 83, 109, 1)', width=2),\n",
    "        marker=dict(size=8)\n",
    "    ))\n",
    "    \n",
    "    # Add smoothed C(x) - Kx trace\n",
    "    fig.add_trace(go.Scatter(\n",
    "        x=df_smoothed['AgeStart'],\n",
    "        y=df_smoothed['Smoothed C(x) - Kx'],\n",
    "        mode='lines+markers',\n",
    "        name='Smoothed C(x) - Kx',\n",
    "        line=dict(color='rgba(26, 118, 255, 1)', width=2),\n",
    "        marker=dict(size=8)\n",
    "    ))\n",
    "    \n",
    "    # Add polynomial fit trace\n",
    "    x_smooth = np.linspace(0, 60, 1000)\n",
    "    y_smooth = polynomial(x_smooth)\n",
    "    \n",
    "    fig.add_trace(go.Scatter(\n",
    "        x=x_smooth,\n",
    "        y=y_smooth,\n",
    "        mode='lines',\n",
    "        name='Polynomial Fit',\n",
    "        line=dict(color='rgba(46, 204, 113, 1)', width=2, dash='dash')\n",
    "    ))\n",
    "    \n",
    "    # Update layout\n",
    "    fig.update_layout(\n",
    "        title=f'Raw vs. Smoothed C(x) - Kx (Afghanistan, {df_smoothed[\"Year\"].iloc[0]}, {df_smoothed[\"Sex\"].iloc[0]})',\n",
    "        xaxis_title='Age',\n",
    "        yaxis_title='C(x) - Kx',\n",
    "        legend=dict(\n",
    "            x=0.01,\n",
    "            y=0.99,\n",
    "            bgcolor='rgba(255, 255, 255, 0.5)',\n",
    "            bordercolor='rgba(0, 0, 0, 0.1)'\n",
    "        ),\n",
    "        hovermode='closest'\n",
    "    )\n",
    "    \n",
    "    return fig"
   ]
  },
  {
   "cell_type": "code",
   "execution_count": null,
   "metadata": {},
   "outputs": [],
   "source": [
    "# Create and display the interactive population chart\n",
    "fig_interactive_population = create_interactive_population_chart(df_smoothed)\n",
    "fig_interactive_population.show()"
   ]
  },
  {
   "cell_type": "code",
   "execution_count": null,
   "metadata": {},
   "outputs": [],
   "source": [
    "# Create and display the interactive C(x) - Kx plot\n",
    "fig_interactive_cx_kx = create_interactive_cx_kx_plot(df_smoothed, polynomial)\n",
    "fig_interactive_cx_kx.show()"
   ]
  },
  {
   "cell_type": "markdown",
   "metadata": {},
   "source": [
    "## Analyzing Multiple Years and Sex Categories"
   ]
  },
  {
   "cell_type": "code",
   "execution_count": null,
   "metadata": {},
   "outputs": [],
   "source": [
    "# Function to process multiple years and sex categories\n",
    "def process_multiple_years_and_sexes(df, years, sex_categories):\n",
    "    results = []\n",
    "    \n",
    "    for year in years:\n",
    "        for sex in sex_categories:\n",
    "            # Group into five-year age groups\n",
    "            df_five_year = group_into_five_year_ages(df, year, sex)\n",
    "            \n",
    "            # Apply Carrier-Farag smoothing\n",
    "            df_smoothed, _, k_coefficient = apply_carrier_farag_smoothing(df_five_year)\n",
    "            \n",
    "            # Add to results\n",
    "            results.append(df_smoothed)\n",
    "    \n",
    "    # Combine all results into a single DataFrame\n",
    "    combined_results = pd.concat(results, ignore_index=True)\n",
    "    \n",
    "    return combined_results"
   ]
  },
  {
   "cell_type": "code",
   "execution_count": null,
   "metadata": {},
   "outputs": [],
   "source": [
    "# Select years and sex categories to analyze\n",
